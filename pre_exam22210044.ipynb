{
  "nbformat": 4,
  "nbformat_minor": 0,
  "metadata": {
    "colab": {
      "provenance": []
    },
    "kernelspec": {
      "name": "python3",
      "display_name": "Python 3"
    },
    "language_info": {
      "name": "python"
    }
  },
  "cells": [
    {
      "cell_type": "markdown",
      "source": [
        "Q1. How many multiplications and additions do you need to perform a matrix multiplication between a (n, k) and (k, m) matrix? Explain.\n",
        "\n",
        "Ans-\n",
        "suppose we have to matrix A and B of order (n,K) and (k,m)\n",
        "after multiply them resulting matrix C will conten n*m elemtns. and to get each element we will multiply a row of A with the collemn of B wich contain K elemnt. so for that we will do K multiplication. So, overall we  will do (n*m)*k multiplication.\n",
        "and for geting each element of result we will add the element for that we will do (k-1) addition for each element of result.so we will do (K-1)*(n*m) addtion.\n",
        "\n",
        "NO of add=(K-1)*(n*m), \n",
        "\n",
        "NO of mull=K*(n*m)\n",
        "\n",
        "program may take k*n*m addition becouse if, for each element of result we add with 0 in first interation.\n"
      ],
      "metadata": {
        "id": "j0HNJbBqqC57"
      }
    },
    {
      "cell_type": "markdown",
      "source": [
        "Q2.Write Python code to multiply the above two matrices. Solve using list of lists and then use numpy. Compare the timing of both solutions. Which one is faster? Why?\n"
      ],
      "metadata": {
        "id": "s4fvTY3pyZ1z"
      }
    },
    {
      "cell_type": "code",
      "source": [
        "# matrix_mull using list\n",
        "import numpy as np\n",
        "def list_mul(A,B):\n",
        "  C=[ [ 0 for _ in range(len(B[0]))] for _ in range(len(A))]\n",
        "  for i in range(len(A)):\n",
        "    for j in range(len(B[0])):\n",
        "      for k in range(len(A[0])):\n",
        "        C[i][j]+=A[i][k]*B[k][j]\n",
        "  return C\n",
        "# matrix_mull using numpy\n",
        "def arr_mul(A,B):\n",
        "  C=A @ B\n",
        "  return C\n",
        "#matrix using list\n",
        "import random\n",
        "#first matrix\n",
        "A=[]\n",
        "for i in range(3):\n",
        "  x=random.sample(range(10, 20), 4)\n",
        "  A.append(x)\n",
        "print(\"first matrix using list:\")\n",
        "print(A)\n",
        "\n",
        "#second matrix\n",
        "B=[]\n",
        "for i in range(4):\n",
        "  y=random.sample(range(10, 20), 5)\n",
        "  B.append(y)\n",
        "print(\"second matrix using list:\")\n",
        "print(B)\n",
        "\n",
        "array1 = np.random.randint((1000), size=(3, 4))\n",
        "array2 = np.random.randint((1000), size=(4, 5))\n",
        "\n",
        "print(\"first matrix using numpy:\")\n",
        "print(array1)\n",
        "print(\"second matrix using numpy:\")\n",
        "print(array2)\n",
        "\n",
        "\n"
      ],
      "metadata": {
        "colab": {
          "base_uri": "https://localhost:8080/"
        },
        "id": "ijtGJ-_OTPDp",
        "outputId": "6ab0df23-fee3-4478-c35e-4e86b259cd8e"
      },
      "execution_count": 1,
      "outputs": [
        {
          "output_type": "stream",
          "name": "stdout",
          "text": [
            "first matrix using list:\n",
            "[[14, 16, 10, 13], [12, 15, 18, 13], [12, 19, 11, 16]]\n",
            "second matrix using list:\n",
            "[[14, 11, 17, 12, 15], [16, 14, 11, 19, 18], [10, 18, 14, 16, 13], [11, 13, 18, 12, 16]]\n",
            "first matrix using numpy:\n",
            "[[978 738 413 190]\n",
            " [785  26 296 179]\n",
            " [532 305 406 206]]\n",
            "second matrix using numpy:\n",
            "[[ 55 626 764 470 367]\n",
            " [510 894 126 679 443]\n",
            " [525 174 993 206 219]\n",
            " [866 945 529 649 386]]\n"
          ]
        }
      ]
    },
    {
      "cell_type": "code",
      "source": [
        "c1=list_mul(A,B)\n",
        "c2=arr_mul(array1,array2)\n",
        "print(c1)\n",
        "print(c2)"
      ],
      "metadata": {
        "colab": {
          "base_uri": "https://localhost:8080/"
        },
        "id": "5KWo_Dp-qqGf",
        "outputId": "bf949444-a7ae-41c3-ab72-bd4fe9c64fb0"
      },
      "execution_count": 12,
      "outputs": [
        {
          "output_type": "stream",
          "name": "stdout",
          "text": [
            "[[803, 891, 854, 687, 876], [820, 916, 794, 700, 924], [773, 893, 772, 677, 880]]\n",
            "[[1795918 2493731 1887205 1863159 1974928]\n",
            " [1357020 2017368 1605671 1311523 1856171]\n",
            " [ 952613 1302907  847127 1193616 1208077]]\n"
          ]
        }
      ]
    },
    {
      "cell_type": "code",
      "source": [
        "%timeit -n 100 -r 5 list_mul(A,B)\n",
        "%timeit -n 100 -r 5 arr_mul(array1,array2)"
      ],
      "metadata": {
        "colab": {
          "base_uri": "https://localhost:8080/"
        },
        "id": "q_o1O9EArb3F",
        "outputId": "a4298bae-f285-4190-da07-8410b22f9a9d"
      },
      "execution_count": 13,
      "outputs": [
        {
          "output_type": "stream",
          "name": "stdout",
          "text": [
            "42.4 µs ± 18.6 µs per loop (mean ± std. dev. of 5 runs, 100 loops each)\n",
            "1.5 µs ± 282 ns per loop (mean ± std. dev. of 5 runs, 100 loops each)\n"
          ]
        }
      ]
    },
    {
      "cell_type": "markdown",
      "source": [
        "numpy implemention is much faster then list implementation--\n",
        "\n",
        "numpy array is collection of same type of data stored in contiguous memory, its implemented in C language so its fater then python list implementation. and list required more looping. numpy usses optimized linear algebra operations to make operation faster and does parallal computation.\n",
        "\n",
        "\n",
        "\n"
      ],
      "metadata": {
        "id": "Avw8mzTJsIWr"
      }
    },
    {
      "cell_type": "markdown",
      "source": [
        "Q3.Finding the highest element in a list requires one pass of the array. Finding the second highest element requires 2 passes of the the array. Using this method, what is the time complexity of finding the median of the array? Can you suggest a better method? Can you implement both these methods in Python and compare against numpy.median routine in terms of time?"
      ],
      "metadata": {
        "id": "9DPzUpcbxNPp"
      }
    },
    {
      "cell_type": "code",
      "source": [
        "\n",
        "def mid_itr(lst):\n",
        "  mx=lst[0]\n",
        "  mx1=float('-inf')\n",
        "  for i in range(len(lst)):\n",
        "    if lst[i]>mx:\n",
        "      mx=lst[i]\n",
        "  l=len(lst)//2 \n",
        " \n",
        "  for i in range(l):\n",
        "    for j in range(len(lst)):\n",
        "      if lst[j]>mx1 and lst[j]<mx:\n",
        "        mx1=lst[j]\n",
        "    mx=mx1\n",
        "    mx1=float('-inf')\n",
        "  return mx;\n",
        "\n",
        "def mid_bysort(lst):\n",
        "  lst.sort()\n",
        "  return lst[len(lst)//2]\n",
        "\n",
        "\n",
        "lst=random.sample(range(10, 10000), 1001)\n",
        "print(mid_itr(lst))\n",
        "print(mid_bysort(lst))\n"
      ],
      "metadata": {
        "colab": {
          "base_uri": "https://localhost:8080/"
        },
        "id": "GDkccvZBx3CL",
        "outputId": "3235b666-a9ef-4edb-f666-b53a740737a6"
      },
      "execution_count": 14,
      "outputs": [
        {
          "output_type": "stream",
          "name": "stdout",
          "text": [
            "4876\n",
            "4876\n"
          ]
        }
      ]
    },
    {
      "cell_type": "code",
      "source": [
        "%timeit -n 100 -r 5 mid_itr(lst)\n",
        "%timeit -n 100 -r 5 mid_bysort(lst)\n",
        "%timeit -n 100 -r 5 np.median(lst)"
      ],
      "metadata": {
        "colab": {
          "base_uri": "https://localhost:8080/"
        },
        "id": "plhEi3PY7g-W",
        "outputId": "925da205-c286-4076-d354-7c05dc1c2083"
      },
      "execution_count": 15,
      "outputs": [
        {
          "output_type": "stream",
          "name": "stdout",
          "text": [
            "80.2 ms ± 797 µs per loop (mean ± std. dev. of 5 runs, 100 loops each)\n",
            "6.09 µs ± 109 ns per loop (mean ± std. dev. of 5 runs, 100 loops each)\n",
            "103 µs ± 13.2 µs per loop (mean ± std. dev. of 5 runs, 100 loops each)\n"
          ]
        }
      ]
    },
    {
      "cell_type": "markdown",
      "source": [
        "iterrative method given in question will take O(n2) but after sorting finding meian wil take O(nlogN)"
      ],
      "metadata": {
        "id": "IUBXDaDl9Kj8"
      }
    },
    {
      "cell_type": "markdown",
      "source": [
        "Q4. What is the gradient of the following function with respect to x and y?"
      ],
      "metadata": {
        "id": "Qt1eBatM9tEV"
      }
    },
    {
      "cell_type": "markdown",
      "source": [
        "after doing partial derivation of the function with respect to x is we will get:\n",
        "\n",
        "$2xy  +  y^3cos(x)$\n",
        "\n",
        "after doing partial derivation of the function with respect to y is we will get:\n",
        "\n",
        "$x^2 +  3y^2sin(x) $\n",
        "So, gradient of the function with respect to x and y is:\n",
        "\n",
        "$[2xy+y^3cos(x),x^2+3y^2sin(x)]$"
      ],
      "metadata": {
        "id": "FgglHNz39yGT"
      }
    },
    {
      "cell_type": "markdown",
      "source": [
        "Q5.Use JAX to confirm the gradient evaluated by your method matches the analytical solution corresponding to a few random values of x and y"
      ],
      "metadata": {
        "id": "UE8U_UCZNBF3"
      }
    },
    {
      "cell_type": "code",
      "source": [
        "import math\n",
        "import numpy as np\n",
        "import jax\n",
        "import jax.numpy as jnp\n",
        "\n",
        "from jax import random\n",
        "from jax import grad,value_and_grad\n",
        "from jax.test_util import check_grads\n",
        "def my_grad(x,y):\n",
        "  a=2*x*y + y**3*math.cos(x)\n",
        "  b=3*y**2*math.sin(x)+ x**2\n",
        "  print(a,b)\n",
        "\n",
        "def f(x,y):\n",
        "  return x**2 * y + y**3 * jnp.sin(x)\n",
        "  \n",
        "dx=grad(f, argnums=0)\n",
        "dy=grad(f, argnums=1)\n",
        "print(\"analytical solution :\")\n",
        "my_grad(2.0,3.0)\n",
        "print(\"using JAX :\")\n",
        "print(dx(2.0,3.0),dy(2.0,3.0))\n",
        " "
      ],
      "metadata": {
        "colab": {
          "base_uri": "https://localhost:8080/"
        },
        "id": "todyUeXuAZgw",
        "outputId": "00cf4da3-89bc-42d8-f86b-20912d9aeca8"
      },
      "execution_count": 32,
      "outputs": [
        {
          "output_type": "stream",
          "name": "stdout",
          "text": [
            "analytical solution :\n",
            "0.7640354132271554 28.551030524293406\n",
            "using JAX :\n",
            "0.7640352 28.55103\n"
          ]
        }
      ]
    },
    {
      "cell_type": "markdown",
      "source": [
        "Q6.Use sympy to confirm that you obtain the same gradient analytically."
      ],
      "metadata": {
        "id": "LwgOPAb0Bg82"
      }
    },
    {
      "cell_type": "code",
      "source": [
        "import sympy as sy\n",
        "from sympy import * \n",
        "x,y = sy.symbols('x y')\n",
        "func = (x**2)*y + (y**3) * sy.sin(x) \n",
        "\n",
        "dx = sy.diff(func,x)\n",
        "dy = sy.diff(func,y)\n",
        "print(\"w.r.t x\")\n",
        "print(dx)\n",
        "print(\"w.r.t y\")\n",
        "print(dy)"
      ],
      "metadata": {
        "colab": {
          "base_uri": "https://localhost:8080/"
        },
        "id": "XumtRpm-BsQM",
        "outputId": "18e26a7c-c951-4727-d27a-78de326a3321"
      },
      "execution_count": 43,
      "outputs": [
        {
          "output_type": "stream",
          "name": "stdout",
          "text": [
            "w.r.t x\n",
            "2*x*y + y**3*cos(x)\n",
            "w.r.t y\n",
            "x**2 + 3*y**2*sin(x)\n"
          ]
        }
      ]
    },
    {
      "cell_type": "markdown",
      "source": [
        "Q7.Create a Python nested dictionary to represent hierarchical information. We want to store record of students and their marks. Something like:\n",
        "\n",
        "2022\n",
        "Branch 1\n",
        "Roll Number: 1, Name: N, Marks:\n",
        "Maths: 100, English: 70 …\n",
        "\n"
      ],
      "metadata": {
        "id": "i2XB_CKP-2S2"
      }
    },
    {
      "cell_type": "code",
      "source": [
        "student_record = {\n",
        "    \"2022\" : {\n",
        "        \"CSE\" : {\n",
        "            \"Roll_n0\" : 1,\n",
        "            \"name\" : \"shivam\",\n",
        "            \"marks\" : {\n",
        "             \"math\" : 80,\n",
        "             \"science\" : 75,\n",
        "             \"chemestry\" : 83,\n",
        "            }\n",
        "        },\n",
        "        \"CIVIL\" : {\n",
        "            \"Roll_n0\" : 1,\n",
        "            \"name\" : \"shivam\",\n",
        "            \"marks\" : {\n",
        "             \"math\" : 80,\n",
        "             \"science\" : 75,\n",
        "             \"chemestry\" : 83,\n",
        "            }\n",
        "        }\n",
        "    },\n",
        "    \"2023\" : {\n",
        "        \"CSE\" : {\n",
        "            \"Roll_n0\" : 1,\n",
        "            \"name\" : \"shivam\",\n",
        "            \"marks\" : {\n",
        "             \"math\" : 80,\n",
        "             \"science\" : 75,\n",
        "             \"chemestry\" : 83,\n",
        "            }\n",
        "        },\n",
        "         \"CIVIL\" : {\n",
        "            \"Roll_n0\" : 1,\n",
        "            \"name\" : \"shivam\",\n",
        "            \"marks\" : {\n",
        "             \"math\" : 80,\n",
        "             \"science\" : 75,\n",
        "             \"chemestry\" : 83,\n",
        "            }\n",
        "        }\n",
        "    }\n",
        "}\n",
        "print(type(student_record))"
      ],
      "metadata": {
        "colab": {
          "base_uri": "https://localhost:8080/"
        },
        "id": "6wI8GMljNI4P",
        "outputId": "22a438a6-05b4-4f5d-eba1-cf554c210660"
      },
      "execution_count": 16,
      "outputs": [
        {
          "output_type": "stream",
          "name": "stdout",
          "text": [
            "<class 'dict'>\n"
          ]
        }
      ]
    },
    {
      "cell_type": "markdown",
      "source": [
        "Q8. Store the same information using Python classes. We have an overall database which is a list of year objects. Each year contains a list of branches. Each branch contains a list of students. Each student has some properties like name, roll number and has marks in some subjects."
      ],
      "metadata": {
        "id": "UXiIaMuQ81Zi"
      }
    },
    {
      "cell_type": "code",
      "source": [
        "class Year:\n",
        "  def __init__(self, year):\n",
        "    self.year = year\n",
        "    self.branch = None\n",
        "  def show(self):\n",
        "    print(\"Year\", self.year)\n",
        "    \n",
        "  class Branches:\n",
        "    def __init__(self, name ):\n",
        "      self.name = name\n",
        "      self.student = None\n",
        "\n",
        "    def show(self):\n",
        "      print(\"brancName\",self.name)\n",
        "\n",
        "    class Students:\n",
        "      def __init__(self, name, roll):\n",
        "        self.name = name      \n",
        "        self.roll = roll\n",
        "        self.mark = None\n",
        "      def show(self):\n",
        "        print(\"name of student\", self.name)\n",
        "        print(\"roll number\", self.roll)\n",
        "      \n",
        "      class Marks:\n",
        "        def __init__(self, maths, english):\n",
        "           self.english= english\n",
        "           self.math = maths\n",
        "           \n",
        "        def show(self):\n",
        "          print(\"marks in english\", self.english)\n",
        "          print(\"mark in math\", self.math)\n",
        "\n",
        "year_obj= Year(2022)\n",
        "year_obj.show()\n",
        "branch= year_obj.Branches(\"cse\")\n",
        "branch.show()\n",
        "stud = branch.Students(\"shivam\",111)\n",
        "stud.show()\n",
        "mark= stud.Marks(80,85)\n",
        "mark.show()\n",
        "year_obj1= Year(2023)\n",
        "year_obj1.show()\n",
        "branch= year_obj1.Branches(\"civil\")\n",
        "branch.show()\n",
        "stud = branch.Students(\"shahil\",112)\n",
        "stud.show()\n",
        "mark= stud.Marks(88,89)\n",
        "mark.show()"
      ],
      "metadata": {
        "colab": {
          "base_uri": "https://localhost:8080/"
        },
        "id": "nSovKooV8tA-",
        "outputId": "e46965f8-6948-450c-c4a3-db5290976b57"
      },
      "execution_count": 17,
      "outputs": [
        {
          "output_type": "stream",
          "name": "stdout",
          "text": [
            "Year 2022\n",
            "brancName cse\n",
            "name of student shivam\n",
            "roll number 111\n",
            "marks in english 85\n",
            "mark in math 80\n",
            "Year 2023\n",
            "brancName civil\n",
            "name of student shahil\n",
            "roll number 112\n",
            "marks in english 89\n",
            "mark in math 88\n"
          ]
        }
      ]
    },
    {
      "cell_type": "markdown",
      "source": [
        "Q9.Using matplotlib plot the following functions on the domain: x = 0.5 to 100.0 in steps of 0.5.\n",
        "\n",
        "\n"
      ],
      "metadata": {
        "id": "LSiqs0IUIwDi"
      }
    },
    {
      "cell_type": "code",
      "source": [
        "import numpy as np\n",
        "import matplotlib.pyplot as plt\n",
        "\n",
        "x= np.arange(0.5, 100.4, 0.5)\n",
        "b = x\n",
        "e = np.sin(x)\n",
        "f = np.log(x)\n",
        " \n",
        "plt.plot(x,b,label=\"x\")\n",
        "plt.plot(x,e,label=\"sin(x)\")\n",
        " \n",
        "plt.plot(x,f,label=\"log(x)\")\n",
        "\n",
        "plt.legend()\n",
        " \n",
        "plt.xlabel(\"x-exis\")\n",
        " \n",
        "plt.ylabel(\"y-exis\")\n",
        "plt.show()"
      ],
      "metadata": {
        "colab": {
          "base_uri": "https://localhost:8080/",
          "height": 279
        },
        "id": "w5u8D3zRAzC-",
        "outputId": "2e1c3ab1-f8ca-42cd-8010-381dfac30fc1"
      },
      "execution_count": 18,
      "outputs": [
        {
          "output_type": "display_data",
          "data": {
            "text/plain": [
              "<Figure size 432x288 with 1 Axes>"
            ],
            "image/png": "[encoded data removed]"
          },
          "metadata": {
            "needs_background": "light"
          }
        }
      ]
    },
    {
      "cell_type": "code",
      "source": [
        "x= np.arange(0.5, 100.4, 0.5)\n",
        "c = x**2\n",
        "d = x**3 /100\n",
        "plt.plot(x,c,label=\"x**2\")\n",
        "plt.plot(x,d,label=\"x**3 /100\")\n",
        "plt.legend()\n",
        "plt.show()"
      ],
      "metadata": {
        "colab": {
          "base_uri": "https://localhost:8080/",
          "height": 265
        },
        "id": "zfhtC2ghOmBt",
        "outputId": "2cd56e31-e8b7-4213-9afa-64f9c5aef44e"
      },
      "execution_count": 19,
      "outputs": [
        {
          "output_type": "display_data",
          "data": {
            "text/plain": [
              "<Figure size 432x288 with 1 Axes>"
            ],
            "image/png": "[encoded data removed]"
          },
          "metadata": {
            "needs_background": "light"
          }
        }
      ]
    },
    {
      "cell_type": "code",
      "source": [
        "x= np.arange(0.5, 100.4, 0.5)\n",
        "g = np.exp(x)\n",
        "plt.plot(x,g,label=\"exp(x)\")\n",
        "plt.legend()\n",
        "plt.show()\n"
      ],
      "metadata": {
        "colab": {
          "base_uri": "https://localhost:8080/",
          "height": 276
        },
        "id": "MqAoxYyLA4mp",
        "outputId": "567b1230-25da-4948-cfd1-3a1e8f53394b"
      },
      "execution_count": 20,
      "outputs": [
        {
          "output_type": "display_data",
          "data": {
            "text/plain": [
              "<Figure size 432x288 with 1 Axes>"
            ],
            "image/png": "[encoded data removed]"
          },
          "metadata": {
            "needs_background": "light"
          }
        }
      ]
    },
    {
      "cell_type": "markdown",
      "source": [
        "Q10.Using numpy generate a matrix of size 20X5 containing random numbers drawn uniformly from the range of 1 to 2. Using Pandas create a dataframe out of this matrix. Name the columns of the dataframe as “a”, “b”, “c”, “d”, “e”. Find the column with the highest standard deviation. Find the row with the lowest mean."
      ],
      "metadata": {
        "id": "BzfTIK4JiqlR"
      }
    },
    {
      "cell_type": "code",
      "source": [
        "import pandas as pd\n",
        "mtr=np.random.uniform(1,2,size=(20,5))\n",
        "#print(mtr)\n",
        "tbl=pd.DataFrame(data=mtr, columns=[\"a\",\"b\",\"c\",\"d\",\"e\"])\n",
        "print(tbl)\n",
        "\n"
      ],
      "metadata": {
        "colab": {
          "base_uri": "https://localhost:8080/"
        },
        "id": "rrmJuX8ki44s",
        "outputId": "1df661e9-af40-4638-f59b-9e303bd6ce15"
      },
      "execution_count": 9,
      "outputs": [
        {
          "output_type": "stream",
          "name": "stdout",
          "text": [
            "           a         b         c         d         e\n",
            "0   1.509111  1.243602  1.626258  1.009864  1.889563\n",
            "1   1.872855  1.481159  1.796959  1.170269  1.595121\n",
            "2   1.710543  1.741688  1.813457  1.143760  1.356260\n",
            "3   1.958723  1.436348  1.559613  1.929983  1.321833\n",
            "4   1.047827  1.935469  1.722423  1.203760  1.393317\n",
            "5   1.271513  1.588714  1.120143  1.078886  1.998759\n",
            "6   1.189521  1.667088  1.814975  1.578510  1.998466\n",
            "7   1.370641  1.659430  1.289206  1.581065  1.457603\n",
            "8   1.804855  1.933816  1.259191  1.669117  1.374753\n",
            "9   1.780736  1.394316  1.602105  1.875802  1.449688\n",
            "10  1.528744  1.081718  1.859212  1.240794  1.019319\n",
            "11  1.893775  1.642471  1.459724  1.787877  1.231684\n",
            "12  1.386733  1.542559  1.961024  1.003315  1.676279\n",
            "13  1.505471  1.992485  1.684107  1.505491  1.472512\n",
            "14  1.478433  1.134035  1.836906  1.323930  1.121449\n",
            "15  1.509040  1.898017  1.863230  1.484827  1.009466\n",
            "16  1.132596  1.503261  1.323765  1.516568  1.601976\n",
            "17  1.463404  1.725500  1.167579  1.543420  1.061762\n",
            "18  1.005470  1.032372  1.059481  1.973319  1.606711\n",
            "19  1.385403  1.808931  1.046606  1.967618  1.746665\n"
          ]
        }
      ]
    },
    {
      "cell_type": "code",
      "source": [
        "#columns with highest std\n",
        "c_std=tbl.std()\n",
        "print(c_std)\n",
        "col=c_std.idxmax()\n",
        "print(\"column NO:\")\n",
        "print(col)"
      ],
      "metadata": {
        "colab": {
          "base_uri": "https://localhost:8080/"
        },
        "id": "vR5LbkxKm3pV",
        "outputId": "4390aa2b-6e58-42d5-c342-c580fc19436b"
      },
      "execution_count": 22,
      "outputs": [
        {
          "output_type": "stream",
          "name": "stdout",
          "text": [
            "a    0.280678\n",
            "b    0.287603\n",
            "c    0.302445\n",
            "d    0.322229\n",
            "e    0.300552\n",
            "dtype: float64\n",
            "column NO:\n",
            "d\n"
          ]
        }
      ]
    },
    {
      "cell_type": "code",
      "source": [
        "#row with lowest mean\n",
        "r_mean=tbl.mean(axis=1)\n",
        "print(r_mean)\n",
        "row=r_mean.idxmin()\n",
        "print(\"row NO:\")\n",
        "print(row)\n"
      ],
      "metadata": {
        "colab": {
          "base_uri": "https://localhost:8080/"
        },
        "id": "7Tx6bksToP9I",
        "outputId": "007ddcb6-2d66-428f-9d46-46cb6fecb469"
      },
      "execution_count": 23,
      "outputs": [
        {
          "output_type": "stream",
          "name": "stdout",
          "text": [
            "0     1.455680\n",
            "1     1.583273\n",
            "2     1.553142\n",
            "3     1.641300\n",
            "4     1.460559\n",
            "5     1.411603\n",
            "6     1.649712\n",
            "7     1.471589\n",
            "8     1.608346\n",
            "9     1.620529\n",
            "10    1.345957\n",
            "11    1.603106\n",
            "12    1.513982\n",
            "13    1.632013\n",
            "14    1.378951\n",
            "15    1.552916\n",
            "16    1.415633\n",
            "17    1.392333\n",
            "18    1.335471\n",
            "19    1.591045\n",
            "dtype: float64\n",
            "row NO:\n",
            "18\n"
          ]
        }
      ]
    },
    {
      "cell_type": "markdown",
      "source": [
        "11. Add a new column to the dataframe called “f” which is the sum of the columns “a”, “b”, “c”, “d”, “e”. Create another column called “g”. The value in the column “g” should be “LT8” if the value in the column “f” is less than 8 and “GT8” otherwise. Find the number of rows in the dataframe where the value in the column “g” is “LT8”. Find the standard deviation of the column “f” for the rows where the value in the column “g” is “LT8” and “GT8” respectively."
      ],
      "metadata": {
        "id": "pvfmjn9I3Npp"
      }
    },
    {
      "cell_type": "code",
      "source": [
        "#for adding new columns f to datafram\n",
        "tbl = tbl.assign(f=lambda x: x['a'] + x['b'] + x['c'] + x['d'] + x['e'])\n",
        "# adding new column g\n",
        "tbl['g'] = tbl.apply(lambda x: 'LT8' if x['f'] < 8 else 'GT8', axis=1)\n",
        "print(tbl)\n",
        "no_of_row = tbl.query('g == \"LT8\"').shape[0]\n",
        "\n",
        "print(\"no ofrow in g whith LT8 is:\")\n",
        "print(no_of_row)"
      ],
      "metadata": {
        "colab": {
          "base_uri": "https://localhost:8080/"
        },
        "id": "JQuBISwb3St0",
        "outputId": "776f6d9e-b769-40e4-f64b-bda1b45ae338"
      },
      "execution_count": 27,
      "outputs": [
        {
          "output_type": "stream",
          "name": "stdout",
          "text": [
            "           a         b         c         d         e         f    g\n",
            "0   1.509111  1.243602  1.626258  1.009864  1.889563  7.278398  LT8\n",
            "1   1.872855  1.481159  1.796959  1.170269  1.595121  7.916363  LT8\n",
            "2   1.710543  1.741688  1.813457  1.143760  1.356260  7.765709  LT8\n",
            "3   1.958723  1.436348  1.559613  1.929983  1.321833  8.206500  GT8\n",
            "4   1.047827  1.935469  1.722423  1.203760  1.393317  7.302796  LT8\n",
            "5   1.271513  1.588714  1.120143  1.078886  1.998759  7.058016  LT8\n",
            "6   1.189521  1.667088  1.814975  1.578510  1.998466  8.248560  GT8\n",
            "7   1.370641  1.659430  1.289206  1.581065  1.457603  7.357945  LT8\n",
            "8   1.804855  1.933816  1.259191  1.669117  1.374753  8.041732  GT8\n",
            "9   1.780736  1.394316  1.602105  1.875802  1.449688  8.102647  GT8\n",
            "10  1.528744  1.081718  1.859212  1.240794  1.019319  6.729787  LT8\n",
            "11  1.893775  1.642471  1.459724  1.787877  1.231684  8.015531  GT8\n",
            "12  1.386733  1.542559  1.961024  1.003315  1.676279  7.569910  LT8\n",
            "13  1.505471  1.992485  1.684107  1.505491  1.472512  8.160066  GT8\n",
            "14  1.478433  1.134035  1.836906  1.323930  1.121449  6.894754  LT8\n",
            "15  1.509040  1.898017  1.863230  1.484827  1.009466  7.764581  LT8\n",
            "16  1.132596  1.503261  1.323765  1.516568  1.601976  7.078167  LT8\n",
            "17  1.463404  1.725500  1.167579  1.543420  1.061762  6.961665  LT8\n",
            "18  1.005470  1.032372  1.059481  1.973319  1.606711  6.677354  LT8\n",
            "19  1.385403  1.808931  1.046606  1.967618  1.746665  7.955224  LT8\n",
            "no ofrow in g whith LT8 is:\n",
            "14\n"
          ]
        }
      ]
    },
    {
      "cell_type": "code",
      "source": [
        "#Find the standard deviation of the column “f” for the rows where the value in the column “g” is “LT8” and “GT8” respectively.\n",
        "with_g_lt8 = tbl.query('g == \"LT8\"')\n",
        "with_g_gt8 = tbl.query('g == \"GT8\"')\n",
        "print(\"for g= LT8 std of f:\")\n",
        "print(with_g_lt8['f'].std())\n",
        "print(\"for g= GT8 std of f:\")\n",
        "print(with_g_gt8['f'].std())"
      ],
      "metadata": {
        "colab": {
          "base_uri": "https://localhost:8080/"
        },
        "id": "wZGke0h_onOH",
        "outputId": "2f1c5a04-4949-40fd-e9e5-e9bbe92a9a2b"
      },
      "execution_count": 33,
      "outputs": [
        {
          "output_type": "stream",
          "name": "stdout",
          "text": [
            "for g= LT8 std of f:\n",
            "0.43119191036776605\n",
            "for g= GT8 std of f:\n",
            "0.09214245351874051\n"
          ]
        }
      ]
    },
    {
      "cell_type": "markdown",
      "source": [
        "12. Write a small piece of code to explain broadcasting in numpy.\n",
        "\n",
        "Ans--\n",
        "to do mathametical operation between  elements of two multi dimentional array, it size of each crossponding dimention either be same of one of them should be \"1\", this way to make them competable for mathmetical operation is called brodcasting."
      ],
      "metadata": {
        "id": "BmoruVXUaqAu"
      }
    },
    {
      "cell_type": "code",
      "source": [
        "import numpy as np\n",
        "arr1=np.array([[1],[2],[3]])\n",
        "arr2=np.array([3,4,5])\n",
        "print(\"first array\")\n",
        "print(arr1)\n",
        "print(arr1.shape)\n",
        "print(\"second array\")\n",
        "print(arr2)\n",
        "print(arr2.shape)\n",
        "c=arr1*arr2\n",
        "print(\"first*second\")\n",
        "print(c)\n",
        "print(c.shape)"
      ],
      "metadata": {
        "id": "fVKmLVEYiU76"
      },
      "execution_count": null,
      "outputs": []
    },
    {
      "cell_type": "markdown",
      "source": [
        "13. Write a function to compute the argmin of a numpy array. The function should take a numpy array as input and return the index of the minimum element. You can use the np.argmin function to verify your solution\n"
      ],
      "metadata": {
        "id": "zfAJODuSVKti"
      }
    },
    {
      "cell_type": "code",
      "source": [
        "def fun_min(arr):\n",
        "  mn=arr[0]\n",
        "  pos=0;\n",
        "  for i in range(len(arr)):\n",
        "    if arr[i]<mn:\n",
        "      mn=arr[i]\n",
        "      pos=i\n",
        "  return pos\n",
        "arr=np.array([3,6,7,1,5,6,7,4,10,44,3,7,-11,55,66])\n",
        "print(fun_min(arr))\n",
        "print(np.argmin(arr))"
      ],
      "metadata": {
        "colab": {
          "base_uri": "https://localhost:8080/"
        },
        "id": "9JQOX3zpVT4s",
        "outputId": "2b26b3dd-72f2-41e1-cdff-b5d59bc08d03"
      },
      "execution_count": 99,
      "outputs": [
        {
          "output_type": "stream",
          "name": "stdout",
          "text": [
            "12\n",
            "12\n"
          ]
        }
      ]
    },
    {
      "cell_type": "code",
      "source": [
        "import math\n",
        "import numpy as np\n",
        "import jax\n",
        "import jax.numpy as jnp\n",
        "\n",
        "from jax import random\n",
        "from jax import grad,value_and_grad\n",
        "from jax.test_util import check_grads\n",
        "def my_grad(x,y):\n",
        "  a=2*x*y + y**3*math.cos(x)\n",
        "  b=3*y**2*math.sin(x)+ x**2\n",
        "  print(a,b)\n",
        "\n",
        "def f(x,y):\n",
        "  return x**2 * y + y**3 * jnp.sin(x)\n",
        "  \n",
        "dx=grad(f, argnums=0)\n",
        "dy=grad(f, argnums=1)\n",
        "my_grad(2.0,3.0)\n",
        "print(dx(2.0,3.0))\n",
        "print(dy(2.0,3.0))\n"
      ],
      "metadata": {
        "colab": {
          "base_uri": "https://localhost:8080/"
        },
        "id": "AE5f3u4fy-82",
        "outputId": "164da6e1-afa9-4e4f-b8f7-a06ac50c5004"
      },
      "execution_count": 31,
      "outputs": [
        {
          "output_type": "stream",
          "name": "stdout",
          "text": [
            "0.7640354132271554 28.551030524293406\n",
            "0.7640352\n",
            "28.55103\n"
          ]
        }
      ]
    }
  ]
}